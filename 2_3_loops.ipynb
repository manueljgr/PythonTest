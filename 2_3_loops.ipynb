{
 "cells": [
  {
   "cell_type": "markdown",
   "metadata": {},
   "source": [
    "# For Loops\n",
    "\n",
    "### Leaning goals:\n",
    "\n",
    "\n",
    "*  to understand the structure and sintax of a `for` loop in Python\n",
    "*  Use loop expressions to code mathematical expressions\n",
    "*  to define ranges  of real values    \n",
    "\n",
    "Repetitive calculations are accomplished using  loop structures  like  `for`    or ` while `. \n",
    "\n",
    "Example:  print a list of numbers "
   ]
  },
  {
   "cell_type": "code",
   "execution_count": null,
   "metadata": {},
   "outputs": [],
   "source": [
    "for i in [3, 4, 5, 6, 7]:\n",
    "    print (f\"The value of i is {i}\")"
   ]
  },
  {
   "cell_type": "markdown",
   "metadata": {},
   "source": [
    "- the top line starts with `for` and ends with `:` and defines the loop iterations\n",
    "- the indented block of instructions is executed at each iteration \n",
    "- the loop statement defines a variable `i`  (loop index) an a   sequence of values the variable can take\n",
    "- the sequence can be a list, tuple, set etc.\n",
    "\n",
    "## For Loops examples\n",
    "Print each fruit in a fruit list:"
   ]
  },
  {
   "cell_type": "code",
   "execution_count": null,
   "metadata": {},
   "outputs": [],
   "source": [
    "fruits = [\"zapote\", \"banana\", \"orange\",\"uchuva\"]\n",
    "for x in fruits:\n",
    "    print(x)"
   ]
  },
  {
   "cell_type": "markdown",
   "metadata": {},
   "source": [
    "Loop through the letters in the word \"banana\":"
   ]
  },
  {
   "cell_type": "code",
   "execution_count": null,
   "metadata": {},
   "outputs": [],
   "source": [
    "for x in \"banana\":\n",
    "    print(x)"
   ]
  },
  {
   "cell_type": "markdown",
   "metadata": {},
   "source": [
    "Suppose that you want to calculate the square of a set of numbers. \n"
   ]
  },
  {
   "cell_type": "code",
   "execution_count": null,
   "metadata": {},
   "outputs": [],
   "source": [
    "for i in (3, 4, 5, 6, 7):\n",
    "    tmp  = i**2\n",
    "    print (f\"The square of {i} is {tmp}\")\n"
   ]
  },
  {
   "cell_type": "markdown",
   "metadata": {},
   "source": [
    "QUESTION\n",
    "Calculate the average of a list of values using a `for loop`. \n",
    "    $$\n",
    "    \\bar x = \\frac{1}{n}\\left(\\sum _{i=0}^{i < n} x_i \\right)\n",
    "    $$\n",
    "    suppose the numbers are $[3,5,6,4.5,3.1]$\n",
    " \n",
    " Hints: Use an auxiliary variable to storage the sum. use a loop to compute the sum of the elements"
   ]
  },
  {
   "cell_type": "code",
   "execution_count": null,
   "metadata": {},
   "outputs": [],
   "source": [
    "x= [3,5,6,4.5,3.1]\n"
   ]
  },
  {
   "cell_type": "markdown",
   "metadata": {},
   "source": [
    "## The range function\n",
    "* The   `range(...)` function  is used to generate a sequence of  **integer** numbers over a specified range\n",
    "* The function takes up to three arguments:\n",
    "\n",
    "```python\n",
    "     range(start, stop, step)\n",
    "```\n",
    "\n",
    "1. `start`: Specifies the start of the sequence. The default value is 0.\n",
    "2. `stop`: Specifies the end of the sequence. The generated sequence will go up to (but not include) this value.\n",
    "3. `step`: Specifies the increment between each number in the sequence. The default value is 1.\n",
    "\n",
    "Example:\n",
    "\n",
    "\n",
    "- With one argument, `range(stop)`: Creates a sequence of numbers from 0 up to `stop-1`.\n",
    "  ```python\n",
    "  for i in range(5):\n",
    "      print(i)\n",
    "  ```\n",
    "  \\# Output: 0 1 2 3 4\n",
    "\n",
    "- With two arguments, `range(start, stop)`: Creates a sequence of numbers from `start` up to `stop-1`.\n",
    "\n",
    "```python\n",
    "  for i in range(2, 5):\n",
    "      print(i)\n",
    "  # Output: 2 3 4\n",
    "  ```\n",
    "\n",
    "- With three arguments, `range(start, stop, step)`: Creates a sequence of numbers from `start` up to `stop-1`, incremented by `step`.\n",
    "```python\n",
    "  for i in range(0, 10, 2):\n",
    "      print(i)\n",
    "  # Output: 0 2 4 6 8\n",
    "  ```\n",
    "  \n",
    "-  Another example with three argunmets\n",
    "\n",
    "```python     \n",
    "    for i in range(3,8,1):\n",
    "        print(i)\n",
    "    # Output: 3, 4, 5, 6, 7\n",
    "```\n",
    "\n",
    "Understanding how to work with `range()` can be beneficial for anyone looking to get good at coding, especially in Python. It's a versatile function that's widely used in various scenarios."
   ]
  },
  {
   "cell_type": "code",
   "execution_count": null,
   "metadata": {},
   "outputs": [],
   "source": [
    "for i in range(3,8,1):\n",
    "    print (i)"
   ]
  },
  {
   "cell_type": "markdown",
   "metadata": {},
   "source": [
    "If the step is ommited it will take the default value `step=1`"
   ]
  },
  {
   "cell_type": "code",
   "execution_count": null,
   "metadata": {},
   "outputs": [],
   "source": [
    "for i in range(3,8):\n",
    "    print (i)"
   ]
  },
  {
   "cell_type": "markdown",
   "metadata": {},
   "source": [
    "If only one argument is given it assumes `start = 0` and `step=1`"
   ]
  },
  {
   "cell_type": "code",
   "execution_count": null,
   "metadata": {},
   "outputs": [],
   "source": [
    "for i in range(6):\n",
    "    print (i)"
   ]
  },
  {
   "cell_type": "markdown",
   "metadata": {},
   "source": [
    "What is the output of `range(5,26,5)` ?\n",
    "\n",
    "Do it by hand before using the python function\n",
    "\n"
   ]
  },
  {
   "cell_type": "markdown",
   "metadata": {
    "tags": []
   },
   "source": [
    "### Question\n",
    "\n",
    "Express the following sequence with the range function\n",
    "$ \\{\n",
    "4 ,\n",
    "7 ,\n",
    "10,\n",
    "13,\n",
    "16    \n",
    "\\}$"
   ]
  },
  {
   "cell_type": "code",
   "execution_count": null,
   "metadata": {},
   "outputs": [],
   "source": []
  },
  {
   "cell_type": "markdown",
   "metadata": {},
   "source": [
    "## Exercise\n",
    "\n",
    "Write a program that prints  10 elements of the following arithmetic sequence $ x_n = 3n-2$  starting from n=5)\n",
    "\n"
   ]
  },
  {
   "cell_type": "code",
   "execution_count": null,
   "metadata": {},
   "outputs": [],
   "source": []
  },
  {
   "cell_type": "markdown",
   "metadata": {},
   "source": [
    "\n",
    "Write a program that prints the first 20 elements of the following geometric sequence $ x_n = 2^n$\n",
    "\n"
   ]
  },
  {
   "cell_type": "code",
   "execution_count": null,
   "metadata": {},
   "outputs": [],
   "source": []
  },
  {
   "cell_type": "markdown",
   "metadata": {},
   "source": [
    "### The linspace function\n",
    "\n",
    "The `linspace` function in NumPy is used to create an evenly spaced sequence of numbers over a specified range. Unlike the Python `range()` function, `linspace` generates an array of floating-point numbers, and you can specify the number of elements you want in the array.\n",
    "\n",
    "The function has the following syntax:\n",
    "\n",
    "```python\n",
    "numpy.linspace(start, stop, num=50, endpoint=True, retstep=False, dtype=None, axis=0)\n",
    "```\n",
    "\n",
    "Here are the key parameters:\n",
    "\n",
    "- `start`: The starting value of the sequence.\n",
    "- `stop`: The end value of the sequence. If `endpoint=True` (the default), the sequence will include this value.\n",
    "- `num`: The number of evenly spaced samples to generate. Default is 50.\n",
    "- `endpoint`: If True (default), `stop` is the last sample; otherwise, it is not included.\n",
    "- `retstep`: If True, return the step size between samples.\n",
    "- `dtype`: The data type of the output array. If not specified, it is inferred from the input values.\n",
    "- `axis`: The axis in the result along which the `linspace` samples are stored.\n",
    "\n",
    "Here's an example:\n",
    "\n",
    "```python\n",
    "import numpy as np\n",
    "\n",
    "# Generate an array of 5 numbers, evenly spaced between 0 and 1\n",
    "arr = np.linspace(0, 1, 5)\n",
    "\n",
    "print(arr)\n",
    "# Output: [0.   0.25 0.5  0.75 1.  ]\n",
    "```\n",
    "\n",
    "And if you set `endpoint=False`:\n",
    "\n",
    "```python\n",
    "arr = np.linspace(0, 1, 5, endpoint=False)\n",
    "print(arr)\n",
    "# Output: [0.  0.2 0.4 0.6 0.8]\n",
    "```\n",
    "\n",
    "`linspace` can be particularly useful in scientific computing and data analysis tasks, as it allows for the easy generation of data points for simulations or plotting.\n",
    "\n",
    "### Example\n",
    "\n",
    "```python\n",
    "\n",
    "In:  from numpy import linspace\n",
    "     linspace(10,25,4)\n",
    "        \n",
    "Out: array([10., 15., 20., 25.])      \n",
    "\n",
    "```\n",
    "\n",
    "It returns an `numpy` **array**"
   ]
  },
  {
   "cell_type": "code",
   "execution_count": null,
   "metadata": {},
   "outputs": [],
   "source": [
    "from numpy import linspace\n",
    "y=linspace(10,25,4)\n",
    "\n",
    "x=[0,1,2,3]\n",
    "\n",
    "print(f\"{x=}  {y=}\")\n",
    "\n",
    "import matplotlib.pyplot as plt\n",
    "# The function\n",
    "plt.plot(x,y, marker='o')\n",
    "\n",
    "#will plot the points (0,10), (1,15), (2,20), (3,25)\n"
   ]
  },
  {
   "cell_type": "code",
   "execution_count": null,
   "metadata": {},
   "outputs": [],
   "source": []
  },
  {
   "cell_type": "markdown",
   "metadata": {},
   "source": [
    "## Exercise\n",
    "    \n",
    "\n",
    "Consider a 15 cm wall. \n",
    "The temperature in a wall is given by   $T(x)=  -x^2+16 x +6 $\n",
    "\n",
    "Write a program to compute the temperature at 20 points in the wall.\n",
    "\n",
    "1. write a function that computes the temperature at a point: CalculateTemperature(x )\n",
    "1. generate the 20 points\n",
    "1. Write a loop to evaluate the functions in those points \n",
    "    "
   ]
  },
  {
   "cell_type": "code",
   "execution_count": null,
   "metadata": {},
   "outputs": [],
   "source": []
  },
  {
   "cell_type": "markdown",
   "metadata": {},
   "source": [
    "## While loops\n",
    "\n",
    "`while` stop the execution of the loop when the heading statement becames false\n",
    "\n",
    "Example: consider a ball, initally in the ground,  is given an initial velocity and produces a parabolic trajectory in the absence of air. \n",
    "$$\n",
    "y = v_0 t - \\frac{g t^2  }{2}\n",
    "$$\n",
    "\n",
    "You want to know what is time when the ball hits the floor. Using a `while` loop find the value    \n"
   ]
  },
  {
   "cell_type": "code",
   "execution_count": 34,
   "metadata": {
    "tags": []
   },
   "outputs": [
    {
     "name": "stdout",
     "output_type": "stream",
     "text": [
      "y=0 at 0.9174174174174174\n"
     ]
    },
    {
     "data": {
      "image/png": "[encoded data removed]",
      "text/plain": [
       "<Figure size 640x480 with 1 Axes>"
      ]
     },
     "metadata": {},
     "output_type": "display_data"
    }
   ],
   "source": [
    "from numpy import linspace\n",
    "import matplotlib.pyplot as plt\n",
    "\n",
    "v0 = 4.5                  # Initial velocity\n",
    "g = 9.81                  # Acceleration of gravity\n",
    "t = linspace(0, 1, 1000)  # 1000 points in time interval (t is an array)\n",
    "y = v0*t - 0.5*g*t**2     # Generate all heights (here t is an array)\n",
    "\n",
    "# Find where the ball hits y=0\n",
    "i=0\n",
    "while y[i] >= 0:\n",
    "#     print(f\"t: {t[i]} y : {y[i]}\")\n",
    "    i += 1\n",
    "\n",
    "print (\"y=0 at\", 0.5*(t[i-1] + t[i]) )\n",
    "\n",
    "plt.plot(t,y)\n",
    "plt.grid()"
   ]
  },
  {
   "cell_type": "markdown",
   "metadata": {},
   "source": [
    "### Exercise\n",
    "Use a `while` loop to find the maximum value of y"
   ]
  },
  {
   "cell_type": "code",
   "execution_count": null,
   "metadata": {},
   "outputs": [],
   "source": []
  },
  {
   "cell_type": "code",
   "execution_count": null,
   "metadata": {},
   "outputs": [],
   "source": []
  },
  {
   "cell_type": "code",
   "execution_count": 1,
   "metadata": {},
   "outputs": [
    {
     "ename": "NameError",
     "evalue": "name 't' is not defined",
     "output_type": "error",
     "traceback": [
      "\u001b[0;31m---------------------------------------------------------------------------\u001b[0m",
      "\u001b[0;31mNameError\u001b[0m                                 Traceback (most recent call last)",
      "Cell \u001b[0;32mIn[1], line 4\u001b[0m\n\u001b[1;32m      1\u001b[0m \u001b[38;5;66;03m# Lets make a better plot here\u001b[39;00m\n\u001b[1;32m      3\u001b[0m \u001b[38;5;28;01mimport\u001b[39;00m \u001b[38;5;21;01mmatplotlib\u001b[39;00m\u001b[38;5;21;01m.\u001b[39;00m\u001b[38;5;21;01mpyplot\u001b[39;00m \u001b[38;5;28;01mas\u001b[39;00m \u001b[38;5;21;01mplt\u001b[39;00m\n\u001b[0;32m----> 4\u001b[0m plt\u001b[38;5;241m.\u001b[39mplot(t, y)\n\u001b[1;32m      5\u001b[0m plt\u001b[38;5;241m.\u001b[39mplot(t, \u001b[38;5;241m0\u001b[39m\u001b[38;5;241m*\u001b[39mt,\u001b[38;5;124m'\u001b[39m\u001b[38;5;124mg--\u001b[39m\u001b[38;5;124m'\u001b[39m)    \u001b[38;5;66;03m# notice that 0*t is an array of zeros\u001b[39;00m\n\u001b[1;32m      6\u001b[0m plt\u001b[38;5;241m.\u001b[39mxlabel(\u001b[38;5;124m'\u001b[39m\u001b[38;5;124mTime (s)\u001b[39m\u001b[38;5;124m'\u001b[39m)\n",
      "\u001b[0;31mNameError\u001b[0m: name 't' is not defined"
     ]
    }
   ],
   "source": [
    "# Lets make a better plot here\n",
    "\n",
    "import matplotlib.pyplot as plt\n",
    "plt.plot(t, y)\n",
    "plt.plot(t, 0*t,'g--')    # notice that 0*t is an array of zeros\n",
    "plt.xlabel('Time (s)')\n",
    "plt.ylabel('Height (m)')\n",
    "plt.show()"
   ]
  },
  {
   "cell_type": "code",
   "execution_count": null,
   "metadata": {},
   "outputs": [],
   "source": []
  }
 ],
 "metadata": {
  "kernelspec": {
   "display_name": "Python 3 (ipykernel)",
   "language": "python",
   "name": "python3"
  },
  "language_info": {
   "codemirror_mode": {
    "name": "ipython",
    "version": 3
   },
   "file_extension": ".py",
   "mimetype": "text/x-python",
   "name": "python",
   "nbconvert_exporter": "python",
   "pygments_lexer": "ipython3",
   "version": "3.11.7"
  }
 },
 "nbformat": 4,
 "nbformat_minor": 4
}
